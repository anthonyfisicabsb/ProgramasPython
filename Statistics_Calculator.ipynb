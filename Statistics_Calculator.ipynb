{
 "cells": [
  {
   "cell_type": "markdown",
   "metadata": {},
   "source": [
    "# Statistics Calculator\n",
    "---\n",
    "Implementation of a statistics calculator"
   ]
  },
  {
   "cell_type": "code",
   "execution_count": 12,
   "metadata": {},
   "outputs": [],
   "source": [
    "def create_list(filename):\n",
    "    lista_num = []\n",
    "    \n",
    "    with open(filename) as f:\n",
    "        for line in f:\n",
    "            lista_num.append(int(line))\n",
    "    \n",
    "    return lista_num"
   ]
  },
  {
   "cell_type": "code",
   "execution_count": 3,
   "metadata": {},
   "outputs": [],
   "source": [
    "def mean(lista):\n",
    "    soma = 0.0\n",
    "    \n",
    "    for num in lista:\n",
    "        soma += num\n",
    "    \n",
    "    return soma / len(lista)"
   ]
  },
  {
   "cell_type": "code",
   "execution_count": 14,
   "metadata": {},
   "outputs": [],
   "source": [
    "def median(lista):\n",
    "    lista.sort()\n",
    "    \n",
    "    if len(lista)%2 == 0:\n",
    "        m2 = int(len(lista)/2)\n",
    "        m1 = int(len(lista)/2) - 1\n",
    "        \n",
    "        return (lista[m1] + lista[m2])/2\n",
    "    else:\n",
    "        m1 = int((len(lista) + 1)/2) -1\n",
    "        \n",
    "        return lista[m1]"
   ]
  },
  {
   "cell_type": "code",
   "execution_count": 5,
   "metadata": {},
   "outputs": [],
   "source": [
    "from collections import Counter\n",
    "\n",
    "def calculate_mode(lista):\n",
    "    c = Counter(lista)\n",
    "    mode = c.most_common(1)\n",
    "\n",
    "    return mode[0][0]"
   ]
  },
  {
   "cell_type": "code",
   "execution_count": 16,
   "metadata": {},
   "outputs": [],
   "source": [
    "import math\n",
    "\n",
    "def standard_dev(lista):\n",
    "    media = mean(lista)\n",
    "    \n",
    "    soma = 0.0\n",
    "    \n",
    "    for n in lista:\n",
    "        soma += (n - media)**2\n",
    "        \n",
    "    soma /= 2\n",
    "    \n",
    "    return math.sqrt(soma)"
   ]
  },
  {
   "cell_type": "code",
   "execution_count": 17,
   "metadata": {},
   "outputs": [
    {
     "name": "stdout",
     "output_type": "stream",
     "text": [
      "A media da lista eh 5.4\n",
      "A mediana da lista eh 5.5\n",
      "A moda da lista eh 9\n",
      "O desvio padrao eh 6.099180272790763\n"
     ]
    }
   ],
   "source": [
    "if __name__ == '__main__':\n",
    "    lista = create_list(\"nums.txt\")\n",
    "\n",
    "    print(\"A media da lista eh\", mean(lista))\n",
    "    print(\"A mediana da lista eh\",median(lista))\n",
    "    print(\"A moda da lista eh\",calculate_mode(lista))\n",
    "    print(\"O desvio padrao eh\", standard_dev(lista))\n",
    "   "
   ]
  }
 ],
 "metadata": {
  "kernelspec": {
   "display_name": "Python 3",
   "language": "python",
   "name": "python3"
  },
  "language_info": {
   "codemirror_mode": {
    "name": "ipython",
    "version": 3
   },
   "file_extension": ".py",
   "mimetype": "text/x-python",
   "name": "python",
   "nbconvert_exporter": "python",
   "pygments_lexer": "ipython3",
   "version": "3.6.5"
  }
 },
 "nbformat": 4,
 "nbformat_minor": 2
}
