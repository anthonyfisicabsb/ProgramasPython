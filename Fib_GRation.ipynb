{
 "cells": [
  {
   "cell_type": "markdown",
   "metadata": {},
   "source": [
    "# Fibonacci and Golden Ratio\n",
    "---\n",
    "This program show when the golden ration appears in fibonacci sequence"
   ]
  },
  {
   "cell_type": "code",
   "execution_count": 1,
   "metadata": {},
   "outputs": [],
   "source": [
    "# function to generate fibonnaci sequence\n",
    "def fibo(n):\n",
    "    if n == 1:\n",
    "        return [1]\n",
    "    if n == 2:\n",
    "        return [1, 1]\n",
    "    \n",
    "    # First two members of the series\n",
    "    a = 1\n",
    "    b = 1\n",
    "    \n",
    "    series = [a, b]\n",
    "    \n",
    "    for i in range(n):\n",
    "        c = a + b\n",
    "        series.append(c)\n",
    "        a = b\n",
    "        b = c\n",
    "    \n",
    "    return series"
   ]
  },
  {
   "cell_type": "code",
   "execution_count": 2,
   "metadata": {},
   "outputs": [],
   "source": [
    "import matplotlib.pyplot as plt "
   ]
  },
  {
   "cell_type": "code",
   "execution_count": 4,
   "metadata": {},
   "outputs": [],
   "source": [
    "def create_graph(n):\n",
    "    lista_y = []\n",
    "    fib_seq = fibo(n)\n",
    "    \n",
    "    for i in range(1, len(fib_seq)):\n",
    "        a = fib_seq[i]/fib_seq[i-1]\n",
    "        \n",
    "        lista_y.append(a)\n",
    "        \n",
    "    num_seq = [i for i in range(len(lista_y))]\n",
    "    \n",
    "    plt.ylabel('ratio')\n",
    "    plt.xlabel('No.')\n",
    "    plt.plot(num_seq, lista_y)\n",
    "    plt.show()"
   ]
  },
  {
   "cell_type": "code",
   "execution_count": 7,
   "metadata": {},
   "outputs": [
    {
     "name": "stdout",
     "output_type": "stream",
     "text": [
      "Insira o numero da sequencia: 500\n"
     ]
    },
    {
     "data": {
      "image/png": "[encoded data removed]",
      "text/plain": [
       "<Figure size 432x288 with 1 Axes>"
      ]
     },
     "metadata": {},
     "output_type": "display_data"
    }
   ],
   "source": [
    "if __name__ == '__main__':\n",
    "    try:\n",
    "        n = int(input('Insira o numero da sequencia: '))\n",
    "    \n",
    "        create_graph(n)\n",
    "    except:\n",
    "        print('Insira um numero!')"
   ]
  }
 ],
 "metadata": {
  "kernelspec": {
   "display_name": "Python 3",
   "language": "python",
   "name": "python3"
  },
  "language_info": {
   "codemirror_mode": {
    "name": "ipython",
    "version": 3
   },
   "file_extension": ".py",
   "mimetype": "text/x-python",
   "name": "python",
   "nbconvert_exporter": "python",
   "pygments_lexer": "ipython3",
   "version": "3.6.5"
  }
 },
 "nbformat": 4,
 "nbformat_minor": 2
}
