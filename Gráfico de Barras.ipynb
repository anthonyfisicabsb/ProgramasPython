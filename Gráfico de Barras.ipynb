{
 "cells": [
  {
   "cell_type": "markdown",
   "metadata": {},
   "source": [
    "# Programa para criar barras \n",
    "---\n",
    "Esse programa visa criar barras para o estudo das despesas mensais."
   ]
  },
  {
   "cell_type": "code",
   "execution_count": 1,
   "metadata": {},
   "outputs": [],
   "source": [
    "import matplotlib.pyplot as plt\n",
    "\n",
    "def create_bar_chart(data, labels):\n",
    "    # Number of bars\n",
    "    num_bars = len(data)\n",
    "    # Point wich each bar is centered\n",
    "    positions = range(1, num_bars+1)\n",
    "    plt.barh(positions, data, align='center')\n",
    "    # Set the label of each bar\n",
    "    plt.yticks(positions, labels)\n",
    "    plt.xlabel('Amount')\n",
    "    plt.ylabel('Expendidures')\n",
    "    plt.title('Weekly expendidures')\n",
    "    # Turn on the grid\n",
    "    plt.grid()\n",
    "    plt.show()"
   ]
  },
  {
   "cell_type": "code",
   "execution_count": 7,
   "metadata": {},
   "outputs": [
    {
     "name": "stdout",
     "output_type": "stream",
     "text": [
      "Enter the number of categories: 8\n",
      "Enter the name of category: Alimentação\n",
      "Expenditure: 10\n",
      "Enter the name of category: Transporte\n",
      "Expenditure: 5\n",
      "Enter the name of category: Livros\n",
      "Expenditure: 25\n",
      "Enter the name of category: Cópias\n",
      "Expenditure: 2\n",
      "Enter the name of category: Besteiras\n",
      "Expenditure: 12\n",
      "Enter the name of category: Gasolina\n",
      "Expenditure: 30\n",
      "Enter the name of category: Lanche\n",
      "Expenditure: 8\n",
      "Enter the name of category: Lápis\n",
      "Expenditure: 11\n"
     ]
    },
    {
     "data": {
      "image/png": "[encoded data removed]",
      "text/plain": [
       "<Figure size 432x288 with 1 Axes>"
      ]
     },
     "metadata": {},
     "output_type": "display_data"
    }
   ],
   "source": [
    "if __name__ == '__main__':\n",
    "    try:\n",
    "        tamanho = int(input('Enter the number of categories: '))\n",
    "        if tamanho > 0:\n",
    "            categorias = []\n",
    "            gasto = []\n",
    "            \n",
    "            for i in range(1, tamanho + 1):\n",
    "                categorias.append(input('Enter the name of category: '))\n",
    "                gasto.append(float(input('Expenditure: ')))\n",
    "            create_bar_chart(gasto, categorias)\n",
    "        else:\n",
    "            print('Tamanho tem que ser maior que zero')\n",
    "    except ValueError:\n",
    "        print('Exependidures and number categories must be numbers')"
   ]
  }
 ],
 "metadata": {
  "kernelspec": {
   "display_name": "Python 3",
   "language": "python",
   "name": "python3"
  },
  "language_info": {
   "codemirror_mode": {
    "name": "ipython",
    "version": 3
   },
   "file_extension": ".py",
   "mimetype": "text/x-python",
   "name": "python",
   "nbconvert_exporter": "python",
   "pygments_lexer": "ipython3",
   "version": "3.6.5"
  }
 },
 "nbformat": 4,
 "nbformat_minor": 2
}
