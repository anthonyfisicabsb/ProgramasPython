{
 "cells": [
  {
   "cell_type": "markdown",
   "metadata": {},
   "source": [
    "# Gráfico de Função Quadrática\n",
    "---\n",
    "O programa abaixo visa criar um gráfico de uma função do segundo grau, a fim de mostrar se o seu comportamento é realmente o de uma parábola."
   ]
  },
  {
   "cell_type": "code",
   "execution_count": 1,
   "metadata": {},
   "outputs": [],
   "source": [
    "#Função para gerar lista de intervalos de números de ponto flutuante\n",
    "def frange(ini, fim, incr):\n",
    "    lista = []\n",
    "    \n",
    "    #Se o fim for menor igual ao início retorna a lista vazia\n",
    "    if fim <= ini:\n",
    "        return lista\n",
    "    \n",
    "    while ini < fim:\n",
    "        lista.append(ini)\n",
    "        ini += incr\n",
    "    \n",
    "    return lista"
   ]
  },
  {
   "cell_type": "code",
   "execution_count": 2,
   "metadata": {},
   "outputs": [],
   "source": [
    "#Função para criar equação do segundo grau\n",
    "def equation(a, b, c, x):\n",
    "    return a*x*x + b*x + c"
   ]
  },
  {
   "cell_type": "code",
   "execution_count": 3,
   "metadata": {},
   "outputs": [],
   "source": [
    "import matplotlib.pyplot as plt\n",
    "\n",
    "#Função para criar o gráfico\n",
    "def draw_graph(x, y):\n",
    "    plt.title('Equação segundo grau')\n",
    "    plt.xlabel('x')\n",
    "    plt.ylabel('f(x)')\n",
    "    plt.plot(x, y, marker='o')\n",
    "    plt.show()"
   ]
  },
  {
   "cell_type": "code",
   "execution_count": 4,
   "metadata": {},
   "outputs": [
    {
     "name": "stdout",
     "output_type": "stream",
     "text": [
      "O valor a da equação: 1\n",
      "O valor b da equação: 2\n",
      "O valor c da equação: 1\n",
      "O valor inicial de x: -1.5\n",
      "O valor final de x: 1.5\n",
      "Incremento de x: 0.01\n"
     ]
    },
    {
     "data": {
      "image/png": "[encoded data removed]",
      "text/plain": [
       "<Figure size 432x288 with 1 Axes>"
      ]
     },
     "metadata": {},
     "output_type": "display_data"
    }
   ],
   "source": [
    "if __name__ == '__main__':\n",
    "    try:\n",
    "        a = float(input('O valor a da equação: '))\n",
    "        b = float(input('O valor b da equação: '))\n",
    "        c = float(input('O valor c da equação: '))\n",
    "        \n",
    "        ini = float(input('O valor inicial de x: '))\n",
    "        end = float(input('O valor final de x: '))\n",
    "        incr = float(input('Incremento de x: '))\n",
    "        \n",
    "        x_val = frange(ini, end, incr)\n",
    "        \n",
    "        y_val = []\n",
    "        for x in x_val:\n",
    "            y_val.append(equation(a, b, c, x\n",
    "                                 \n",
    "                                 ++--00000000000))\n",
    "        \n",
    "        draw_graph(x_val, y_val)\n",
    "    except:\n",
    "        print('Insira apenas valores válidos')"
   ]
  }
 ],
 "metadata": {
  "kernelspec": {
   "display_name": "Python 3",
   "language": "python",
   "name": "python3"
  },
  "language_info": {
   "codemirror_mode": {
    "name": "ipython",
    "version": 3
   },
   "file_extension": ".py",
   "mimetype": "text/x-python",
   "name": "python",
   "nbconvert_exporter": "python",
   "pygments_lexer": "ipython3",
   "version": "3.6.5"
  }
 },
 "nbformat": 4,
 "nbformat_minor": 2
}
