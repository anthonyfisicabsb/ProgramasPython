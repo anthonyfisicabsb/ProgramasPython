{
 "cells": [
  {
   "cell_type": "code",
   "execution_count": 1,
   "metadata": {},
   "outputs": [],
   "source": [
    "from math import sqrt"
   ]
  },
  {
   "cell_type": "code",
   "execution_count": 2,
   "metadata": {},
   "outputs": [],
   "source": [
    "def distancia(obj, obj2):\n",
    "    retorno = (obj[0]-obj2[0])**2 + (obj[1]-obj2[1])**2\n",
    "\n",
    "    return sqrt(retorno)"
   ]
  },
  {
   "cell_type": "code",
   "execution_count": 3,
   "metadata": {},
   "outputs": [],
   "source": [
    "arquivo = open('dados-008.dat', 'r')"
   ]
  },
  {
   "cell_type": "code",
   "execution_count": 4,
   "metadata": {},
   "outputs": [],
   "source": [
    "lista_particula = list()\n",
    "\n",
    "for line in arquivo:\n",
    "    string = line.split('\\t')\n",
    "    lista_particula.append([float(string[0]), float(string[1])])\n"
   ]
  },
  {
   "cell_type": "code",
   "execution_count": 5,
   "metadata": {},
   "outputs": [],
   "source": [
    "caminho = list()\n",
    "dist_tot = 999999999.999999\n",
    "for part in lista_particula:\n",
    "    caminho_aux = [part]\n",
    "    dist_tot_aux = 0.0\n",
    "    while len(caminho_aux) < len(lista_particula):\n",
    "        dist_aux = 99999999999999999999999.999\n",
    "        obj_aux = None\n",
    "        for obj in lista_particula:\n",
    "            if obj not in caminho_aux and distancia(obj, caminho_aux[-1]) < dist_aux:\n",
    "                dist_aux = distancia(obj, caminho_aux[-1])\n",
    "                obj_aux = obj\n",
    "\n",
    "        caminho_aux.append(obj_aux)\n",
    "        dist_tot_aux += dist_aux\n",
    "\n",
    "    if dist_tot_aux < dist_tot:\n",
    "        dist_tot = dist_tot_aux\n",
    "        caminho = caminho_aux\n"
   ]
  },
  {
   "cell_type": "code",
   "execution_count": 6,
   "metadata": {},
   "outputs": [
    {
     "name": "stdout",
     "output_type": "stream",
     "text": [
      "-21.230629277317433 2.9436076773050814\n",
      "-14.714075253110394 12.735340734095189\n",
      "-15.02941799876892 17.929373548254475\n",
      "-3.4226676523139474 19.50043784839933\n",
      "-0.4445561296465286 13.98743365844119\n",
      "10.455052072570126 15.03155297175148\n",
      "11.10439492251038 11.202600039750081\n",
      "13.845844766769076 6.161985873052117\n",
      "6.976530066304491 -0.3494479216554822\n",
      "19.932308679112793 -2.4319379360654665\n",
      "19.25936499312914 -20.860780817453552\n",
      "3.593685574267667 -13.340300491522761\n",
      "-3.8214300372818997 -10.43880339090883\n",
      "-21.580571993979802 -23.46130759671623\n",
      "-24.882547016444292 -20.21005529923103\n",
      " \n",
      "Distancia total:  148.5392925166635\n"
     ]
    }
   ],
   "source": [
    "for part in caminho:\n",
    "    print(part[0], part[1])\n",
    "\n",
    "print(' ')\n",
    "print('Distancia total: ', dist_tot)"
   ]
  },
  {
   "cell_type": "code",
   "execution_count": 9,
   "metadata": {},
   "outputs": [],
   "source": [
    "import matplotlib.pyplot as plt"
   ]
  },
  {
   "cell_type": "code",
   "execution_count": 11,
   "metadata": {},
   "outputs": [
    {
     "data": {
      "image/png": "[encoded data removed]",
      "text/plain": [
       "<Figure size 432x288 with 1 Axes>"
      ]
     },
     "metadata": {},
     "output_type": "display_data"
    }
   ],
   "source": [
    "plt.scatter([caminho[0][0], caminho[-1][0]], [caminho[0][1], caminho[-1][1]])\n",
    "for i in range(len(caminho) - 1):\n",
    "    plt.plot([caminho[i][0], caminho[i+1][0]], [caminho[i][1], caminho[i+1][1]])\n",
    "\n",
    "plt.show()"
   ]
  }
 ],
 "metadata": {
  "kernelspec": {
   "display_name": "Python 3",
   "language": "python",
   "name": "python3"
  },
  "language_info": {
   "codemirror_mode": {
    "name": "ipython",
    "version": 3
   },
   "file_extension": ".py",
   "mimetype": "text/x-python",
   "name": "python",
   "nbconvert_exporter": "python",
   "pygments_lexer": "ipython3",
   "version": "3.6.6"
  }
 },
 "nbformat": 4,
 "nbformat_minor": 2
}
