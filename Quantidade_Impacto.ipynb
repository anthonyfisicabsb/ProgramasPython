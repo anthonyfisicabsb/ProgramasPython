{
 "cells": [
  {
   "cell_type": "markdown",
   "metadata": {},
   "source": [
    "# Calcular a Quantidade de Impactos Prováveis com a Terra\n",
    "---\n",
    "Esse programa utiliza os dados disponíveis pela NASA no site do [kaggle](https://www.kaggle.com/nasa/asteroid-impacts) sobre a quantidade de impactos possíveis de asteróides com a Terra em uma faixa pré-estabelecida de tempo. Esse cálculo levará em conta variváveis como Escala de Palermo, a velocidade do objeto, o seu diâmetro, os anos iniciais e finais da contagem e a possibilidade de impacto cumulativa."
   ]
  },
  {
   "cell_type": "code",
   "execution_count": 1,
   "metadata": {},
   "outputs": [],
   "source": [
    "\"\"\" Importando bibliotecas necessárias \"\"\"\n",
    "import pandas as pd\n",
    "from sklearn.tree import DecisionTreeRegressor\n",
    "from sklearn.metrics import mean_absolute_error\n",
    "from sklearn.model_selection import train_test_split"
   ]
  },
  {
   "cell_type": "code",
   "execution_count": 3,
   "metadata": {},
   "outputs": [
    {
     "data": {
      "text/html": [
       "<div>\n",
       "<style scoped>\n",
       "    .dataframe tbody tr th:only-of-type {\n",
       "        vertical-align: middle;\n",
       "    }\n",
       "\n",
       "    .dataframe tbody tr th {\n",
       "        vertical-align: top;\n",
       "    }\n",
       "\n",
       "    .dataframe thead th {\n",
       "        text-align: right;\n",
       "    }\n",
       "</style>\n",
       "<table border=\"1\" class=\"dataframe\">\n",
       "  <thead>\n",
       "    <tr style=\"text-align: right;\">\n",
       "      <th></th>\n",
       "      <th>Period Start</th>\n",
       "      <th>Period End</th>\n",
       "      <th>Possible Impacts</th>\n",
       "      <th>Cumulative Impact Probability</th>\n",
       "      <th>Asteroid Velocity</th>\n",
       "      <th>Asteroid Magnitude</th>\n",
       "      <th>Asteroid Diameter (km)</th>\n",
       "      <th>Cumulative Palermo Scale</th>\n",
       "      <th>Maximum Palermo Scale</th>\n",
       "    </tr>\n",
       "  </thead>\n",
       "  <tbody>\n",
       "    <tr>\n",
       "      <th>count</th>\n",
       "      <td>683.000000</td>\n",
       "      <td>683.000000</td>\n",
       "      <td>683.000000</td>\n",
       "      <td>6.830000e+02</td>\n",
       "      <td>683.000000</td>\n",
       "      <td>683.000000</td>\n",
       "      <td>683.000000</td>\n",
       "      <td>683.000000</td>\n",
       "      <td>683.000000</td>\n",
       "    </tr>\n",
       "    <tr>\n",
       "      <th>mean</th>\n",
       "      <td>2062.573939</td>\n",
       "      <td>2099.680820</td>\n",
       "      <td>43.348463</td>\n",
       "      <td>1.539476e-04</td>\n",
       "      <td>11.462577</td>\n",
       "      <td>26.158272</td>\n",
       "      <td>0.049378</td>\n",
       "      <td>-6.511552</td>\n",
       "      <td>-6.804012</td>\n",
       "    </tr>\n",
       "    <tr>\n",
       "      <th>std</th>\n",
       "      <td>43.501694</td>\n",
       "      <td>37.594698</td>\n",
       "      <td>113.773280</td>\n",
       "      <td>2.519607e-03</td>\n",
       "      <td>6.067772</td>\n",
       "      <td>2.388296</td>\n",
       "      <td>0.156403</td>\n",
       "      <td>1.509189</td>\n",
       "      <td>1.476135</td>\n",
       "    </tr>\n",
       "    <tr>\n",
       "      <th>min</th>\n",
       "      <td>2017.000000</td>\n",
       "      <td>2017.000000</td>\n",
       "      <td>1.000000</td>\n",
       "      <td>1.100000e-10</td>\n",
       "      <td>0.340000</td>\n",
       "      <td>15.600000</td>\n",
       "      <td>0.002000</td>\n",
       "      <td>-10.980000</td>\n",
       "      <td>-11.000000</td>\n",
       "    </tr>\n",
       "    <tr>\n",
       "      <th>25%</th>\n",
       "      <td>2034.000000</td>\n",
       "      <td>2090.000000</td>\n",
       "      <td>2.000000</td>\n",
       "      <td>1.100000e-07</td>\n",
       "      <td>7.240000</td>\n",
       "      <td>25.000000</td>\n",
       "      <td>0.010000</td>\n",
       "      <td>-7.490000</td>\n",
       "      <td>-7.790000</td>\n",
       "    </tr>\n",
       "    <tr>\n",
       "      <th>50%</th>\n",
       "      <td>2061.000000</td>\n",
       "      <td>2109.000000</td>\n",
       "      <td>6.000000</td>\n",
       "      <td>1.700000e-06</td>\n",
       "      <td>10.500000</td>\n",
       "      <td>26.400000</td>\n",
       "      <td>0.017000</td>\n",
       "      <td>-6.460000</td>\n",
       "      <td>-6.790000</td>\n",
       "    </tr>\n",
       "    <tr>\n",
       "      <th>75%</th>\n",
       "      <td>2085.000000</td>\n",
       "      <td>2114.000000</td>\n",
       "      <td>29.000000</td>\n",
       "      <td>1.550000e-05</td>\n",
       "      <td>14.810000</td>\n",
       "      <td>27.800000</td>\n",
       "      <td>0.033000</td>\n",
       "      <td>-5.490000</td>\n",
       "      <td>-5.865000</td>\n",
       "    </tr>\n",
       "    <tr>\n",
       "      <th>max</th>\n",
       "      <td>2880.000000</td>\n",
       "      <td>2880.000000</td>\n",
       "      <td>1144.000000</td>\n",
       "      <td>6.500000e-02</td>\n",
       "      <td>39.470000</td>\n",
       "      <td>31.600000</td>\n",
       "      <td>2.579000</td>\n",
       "      <td>-1.420000</td>\n",
       "      <td>-1.420000</td>\n",
       "    </tr>\n",
       "  </tbody>\n",
       "</table>\n",
       "</div>"
      ],
      "text/plain": [
       "       Period Start   Period End  Possible Impacts  \\\n",
       "count    683.000000   683.000000        683.000000   \n",
       "mean    2062.573939  2099.680820         43.348463   \n",
       "std       43.501694    37.594698        113.773280   \n",
       "min     2017.000000  2017.000000          1.000000   \n",
       "25%     2034.000000  2090.000000          2.000000   \n",
       "50%     2061.000000  2109.000000          6.000000   \n",
       "75%     2085.000000  2114.000000         29.000000   \n",
       "max     2880.000000  2880.000000       1144.000000   \n",
       "\n",
       "       Cumulative Impact Probability  Asteroid Velocity  Asteroid Magnitude  \\\n",
       "count                   6.830000e+02         683.000000          683.000000   \n",
       "mean                    1.539476e-04          11.462577           26.158272   \n",
       "std                     2.519607e-03           6.067772            2.388296   \n",
       "min                     1.100000e-10           0.340000           15.600000   \n",
       "25%                     1.100000e-07           7.240000           25.000000   \n",
       "50%                     1.700000e-06          10.500000           26.400000   \n",
       "75%                     1.550000e-05          14.810000           27.800000   \n",
       "max                     6.500000e-02          39.470000           31.600000   \n",
       "\n",
       "       Asteroid Diameter (km)  Cumulative Palermo Scale  Maximum Palermo Scale  \n",
       "count              683.000000                683.000000             683.000000  \n",
       "mean                 0.049378                 -6.511552              -6.804012  \n",
       "std                  0.156403                  1.509189               1.476135  \n",
       "min                  0.002000                -10.980000             -11.000000  \n",
       "25%                  0.010000                 -7.490000              -7.790000  \n",
       "50%                  0.017000                 -6.460000              -6.790000  \n",
       "75%                  0.033000                 -5.490000              -5.865000  \n",
       "max                  2.579000                 -1.420000              -1.420000  "
      ]
     },
     "execution_count": 3,
     "metadata": {},
     "output_type": "execute_result"
    }
   ],
   "source": [
    "\"\"\"Lendo dados do arquivo CSV\"\"\"\n",
    "asteroid_model = pd.read_csv('impacts.csv')\n",
    "\n",
    "asteroid_model.dropna(axis=0)\n",
    "\n",
    "asteroid_model.describe()"
   ]
  },
  {
   "cell_type": "markdown",
   "metadata": {},
   "source": [
    "# Escala de Palermo\n",
    "---\n",
    "A escala de palermo é uma escala utilizada por especialistas na área da Astronomia para medir o risco de impactos potenciais de asteroides na Terra. Para valores inferiores a -2, não há risco, enquanto para valores acima disso há a necessidade de um pequeno acompanhamento.  \n",
    "$$P = log \\frac{p_i}{f_B \\cdot T}$$  \n",
    "- P é o valor da escala.  \n",
    "- T é o período que falta até o evento.  \n",
    "- $f_B$ é a frequência anual de impacto, atualmente estimada em $0,03E^{-0,8}$"
   ]
  },
  {
   "cell_type": "code",
   "execution_count": 5,
   "metadata": {},
   "outputs": [],
   "source": [
    "\"\"\"Escolhendo os parâmtros X e y da regressão\"\"\"\n",
    "x_parameters = ['Period Start', 'Period End', 'Asteroid Velocity', 'Asteroid Diameter (km)', \n",
    "                'Maximum Palermo Scale']\n",
    "\n",
    "X = asteroid_model[x_parameters]\n",
    "\n",
    "y = asteroid_model['Possible Impacts']"
   ]
  },
  {
   "cell_type": "code",
   "execution_count": 6,
   "metadata": {},
   "outputs": [
    {
     "data": {
      "text/html": [
       "<div>\n",
       "<style scoped>\n",
       "    .dataframe tbody tr th:only-of-type {\n",
       "        vertical-align: middle;\n",
       "    }\n",
       "\n",
       "    .dataframe tbody tr th {\n",
       "        vertical-align: top;\n",
       "    }\n",
       "\n",
       "    .dataframe thead th {\n",
       "        text-align: right;\n",
       "    }\n",
       "</style>\n",
       "<table border=\"1\" class=\"dataframe\">\n",
       "  <thead>\n",
       "    <tr style=\"text-align: right;\">\n",
       "      <th></th>\n",
       "      <th>Period Start</th>\n",
       "      <th>Period End</th>\n",
       "      <th>Asteroid Velocity</th>\n",
       "      <th>Asteroid Diameter (km)</th>\n",
       "      <th>Maximum Palermo Scale</th>\n",
       "    </tr>\n",
       "  </thead>\n",
       "  <tbody>\n",
       "    <tr>\n",
       "      <th>546</th>\n",
       "      <td>2092</td>\n",
       "      <td>2103</td>\n",
       "      <td>1.25</td>\n",
       "      <td>0.002</td>\n",
       "      <td>-8.70</td>\n",
       "    </tr>\n",
       "    <tr>\n",
       "      <th>411</th>\n",
       "      <td>2072</td>\n",
       "      <td>2072</td>\n",
       "      <td>12.63</td>\n",
       "      <td>0.013</td>\n",
       "      <td>-8.76</td>\n",
       "    </tr>\n",
       "    <tr>\n",
       "      <th>133</th>\n",
       "      <td>2027</td>\n",
       "      <td>2116</td>\n",
       "      <td>9.71</td>\n",
       "      <td>0.012</td>\n",
       "      <td>-7.89</td>\n",
       "    </tr>\n",
       "    <tr>\n",
       "      <th>260</th>\n",
       "      <td>2049</td>\n",
       "      <td>2115</td>\n",
       "      <td>4.13</td>\n",
       "      <td>0.006</td>\n",
       "      <td>-7.17</td>\n",
       "    </tr>\n",
       "    <tr>\n",
       "      <th>355</th>\n",
       "      <td>2065</td>\n",
       "      <td>2065</td>\n",
       "      <td>4.95</td>\n",
       "      <td>0.018</td>\n",
       "      <td>-7.84</td>\n",
       "    </tr>\n",
       "  </tbody>\n",
       "</table>\n",
       "</div>"
      ],
      "text/plain": [
       "     Period Start  Period End  Asteroid Velocity  Asteroid Diameter (km)  \\\n",
       "546          2092        2103               1.25                   0.002   \n",
       "411          2072        2072              12.63                   0.013   \n",
       "133          2027        2116               9.71                   0.012   \n",
       "260          2049        2115               4.13                   0.006   \n",
       "355          2065        2065               4.95                   0.018   \n",
       "\n",
       "     Maximum Palermo Scale  \n",
       "546                  -8.70  \n",
       "411                  -8.76  \n",
       "133                  -7.89  \n",
       "260                  -7.17  \n",
       "355                  -7.84  "
      ]
     },
     "execution_count": 6,
     "metadata": {},
     "output_type": "execute_result"
    }
   ],
   "source": [
    "\"\"\"Separando o conjunto de dados em dados de teste e dados de treino\"\"\"\n",
    "train_X, val_X, train_y, val_y = train_test_split(X, y, test_size=0.2)\n",
    "\n",
    "train_X.head()"
   ]
  },
  {
   "cell_type": "code",
   "execution_count": 7,
   "metadata": {},
   "outputs": [],
   "source": [
    "\"\"\"Função que retorna o erro absoluto médio da regressão\"\"\"\n",
    "def get_mae(nodes, train_X, val_X, train_y, val_y):\n",
    "    asteroid_reg = DecisionTreeRegressor(max_leaf_nodes=nodes, random_state=1)\n",
    "    \n",
    "    asteroid_reg.fit(train_X, train_y)\n",
    "    prediction = asteroid_reg.predict(val_X)\n",
    "    mae = mean_absolute_error(val_y, prediction)\n",
    "    \n",
    "    return mae"
   ]
  },
  {
   "cell_type": "code",
   "execution_count": 8,
   "metadata": {},
   "outputs": [],
   "source": [
    "node_list = [2, 5, 10, 50, 100, 150, 200, 250, 300]\n",
    "\n",
    "best_node = None\n",
    "mae_min = get_mae(None, train_X, val_X, train_y, val_y)\n",
    "for i in node_list:\n",
    "    mae = get_mae(i, train_X, val_X, train_y, val_y)\n",
    "    if mae < mae_min:\n",
    "        best_node = i\n",
    "        mae_min = mae"
   ]
  },
  {
   "cell_type": "code",
   "execution_count": 9,
   "metadata": {},
   "outputs": [
    {
     "name": "stdout",
     "output_type": "stream",
     "text": [
      "The best node for regression is 50\n",
      " The mae is 27.02511295881734\n"
     ]
    }
   ],
   "source": [
    "print('The best node for regression is {}\\n The mae is {}'.format(best_node, mae_min))"
   ]
  },
  {
   "cell_type": "code",
   "execution_count": 10,
   "metadata": {},
   "outputs": [],
   "source": [
    "import matplotlib.pyplot as plt\n",
    "\n",
    "\"\"\"Função para plotar histograma\"\"\"\n",
    "def create_hist(y):\n",
    "    plt.hist(y, bins=10)\n",
    "    plt.title('Histograma da Probabilidade de Impacto')\n",
    "    plt.ylabel('Quantidade de Asteroides')\n",
    "    plt.xlabel('Quantidade de Possíveis Impactos')\n",
    "    \n",
    "    plt.show()"
   ]
  },
  {
   "cell_type": "code",
   "execution_count": 12,
   "metadata": {},
   "outputs": [
    {
     "name": "stdout",
     "output_type": "stream",
     "text": [
      "72.29194613486953 33.655073798869424\n"
     ]
    },
    {
     "data": {
      "image/png": "[encoded data removed]",
      "text/plain": [
       "<Figure size 432x288 with 1 Axes>"
      ]
     },
     "metadata": {
      "needs_background": "light"
     },
     "output_type": "display_data"
    }
   ],
   "source": [
    "import numpy as np\n",
    "\n",
    "asteroid_reg = DecisionTreeRegressor(max_leaf_nodes=150, random_state=1)\n",
    "\n",
    "asteroid_reg.fit(train_X, train_y)\n",
    "prediction = asteroid_reg.predict(val_X)\n",
    "\n",
    "mean = np.mean(prediction)\n",
    "std_dev = np.std(prediction)\n",
    "\n",
    "print(std_dev, mean)\n",
    "\n",
    "create_hist(prediction)"
   ]
  },
  {
   "cell_type": "code",
   "execution_count": 44,
   "metadata": {},
   "outputs": [
    {
     "name": "stdout",
     "output_type": "stream",
     "text": [
      "O valor do seed é 1392\n",
      "O valor do mae é 21.571532846715325\n"
     ]
    }
   ],
   "source": [
    "from sklearn.ensemble import RandomForestRegressor\n",
    "\n",
    "index = 1\n",
    "mae = 100.0\n",
    "for i in range(1, 1500, 1):\n",
    "    forest_model = RandomForestRegressor(n_estimators=10, random_state=i)\n",
    "    forest_model.fit(train_X, train_y)\n",
    "    forest_prediction = forest_model.predict(val_X)\n",
    "    \n",
    "    mae_atual = mean_absolute_error(forest_prediction, val_y)\n",
    "    if mae_atual < mae:\n",
    "        mae, index = mae_atual, i\n",
    "\n",
    "print(\"O valor do seed é {}\".format(index))\n",
    "print(\"O valor do mae é {}\".format(mae))"
   ]
  }
 ],
 "metadata": {
  "kernelspec": {
   "display_name": "Python 3",
   "language": "python",
   "name": "python3"
  },
  "language_info": {
   "codemirror_mode": {
    "name": "ipython",
    "version": 3
   },
   "file_extension": ".py",
   "mimetype": "text/x-python",
   "name": "python",
   "nbconvert_exporter": "python",
   "pygments_lexer": "ipython3",
   "version": "3.6.7"
  }
 },
 "nbformat": 4,
 "nbformat_minor": 2
}
